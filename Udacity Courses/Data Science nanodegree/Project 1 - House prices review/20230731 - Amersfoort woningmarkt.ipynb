{
 "cells": [
  {
   "cell_type": "markdown",
   "metadata": {},
   "source": [
    "# Step 1: Business Understanding"
   ]
  },
  {
   "cell_type": "markdown",
   "metadata": {},
   "source": [
    "Business problem: I purchased a house in The Netherlands in 2019 in the city of Amersfoort. Now I want to check if this is expected to be a good investment, or that I should have choosen another city instead.  For privacy purposes I will consider an average house in Amersfoort, and as housing price I will consider the average WOZ value (the value that the government considers for tax purposes)\n",
    "\n",
    "Data analysis to do:\n",
    "- I need to analyze the trend in the housing prices over the last 5 years for NL and Amersfoort and compare these. That comparison will show me if the housing prices in Amersfoort grow/decline harder then the rest of the Netherlands (NL). \n",
    "\n",
    "- Then I will then model the historic trends in NL and Amersfoort to see how these prices will develop in the next year. \n",
    "\n",
    "Business Questions to address\n",
    "- What is the average price increase for houses in The Netherlands in 2023 compared to 2019: \n",
    "- What is the average price increase for houses in the municipality Amersfoort in 2023 compared to 2019\n",
    "- What is the predicted average price increase for houses in The Netherlands for 2024 compared to 2019\n",
    "- What is the predicted average price increase for houses in Amersfoort for 2024 compared to 2019"
   ]
  },
  {
   "cell_type": "markdown",
   "metadata": {},
   "source": [
    "# Step 2: Data Understanding"
   ]
  },
  {
   "cell_type": "markdown",
   "metadata": {},
   "source": [
    "Data gathering: \n",
    "\n",
    "I downloaded a dataset of the housing prices in the Netherlands (called 'WOZ value') and I filtered for all available years (2019 - 2023), please see this link: \n",
    "https://opendata.cbs.nl/#/CBS/nl/dataset/85036NED/table?ts=1690792617736 \n",
    "\n",
    "I named the file with the downloaded data: Gemiddelde_WOZ_waarde_van_woningen_op_1_januari__eigendom__regio__31072023_104354.csv\n",
    "\n",
    "Initially I wanted to use the API to dowload all data, but that was blocked due to an internal restriction within my company for downloading data"
   ]
  },
  {
   "cell_type": "code",
   "execution_count": 24,
   "metadata": {},
   "outputs": [
    {
     "data": {
      "text/html": [
       "<div>\n",
       "<style scoped>\n",
       "    .dataframe tbody tr th:only-of-type {\n",
       "        vertical-align: middle;\n",
       "    }\n",
       "\n",
       "    .dataframe tbody tr th {\n",
       "        vertical-align: top;\n",
       "    }\n",
       "\n",
       "    .dataframe thead th {\n",
       "        text-align: right;\n",
       "    }\n",
       "</style>\n",
       "<table border=\"1\" class=\"dataframe\">\n",
       "  <thead>\n",
       "    <tr style=\"text-align: right;\">\n",
       "      <th></th>\n",
       "      <th>Perioden</th>\n",
       "      <th>2019</th>\n",
       "      <th>2020</th>\n",
       "      <th>2021</th>\n",
       "      <th>2022**</th>\n",
       "      <th>2023*</th>\n",
       "    </tr>\n",
       "  </thead>\n",
       "  <tbody>\n",
       "    <tr>\n",
       "      <th>0</th>\n",
       "      <td>Aa en Hunze</td>\n",
       "      <td>241.0</td>\n",
       "      <td>257.0</td>\n",
       "      <td>271.0</td>\n",
       "      <td>298.0</td>\n",
       "      <td>342.0</td>\n",
       "    </tr>\n",
       "    <tr>\n",
       "      <th>1</th>\n",
       "      <td>Aalsmeer</td>\n",
       "      <td>337.0</td>\n",
       "      <td>361.0</td>\n",
       "      <td>383.0</td>\n",
       "      <td>427.0</td>\n",
       "      <td>495.0</td>\n",
       "    </tr>\n",
       "    <tr>\n",
       "      <th>2</th>\n",
       "      <td>Aalten</td>\n",
       "      <td>209.0</td>\n",
       "      <td>223.0</td>\n",
       "      <td>238.0</td>\n",
       "      <td>265.0</td>\n",
       "      <td>314.0</td>\n",
       "    </tr>\n",
       "    <tr>\n",
       "      <th>3</th>\n",
       "      <td>Achtkarspelen</td>\n",
       "      <td>182.0</td>\n",
       "      <td>192.0</td>\n",
       "      <td>206.0</td>\n",
       "      <td>226.0</td>\n",
       "      <td>256.0</td>\n",
       "    </tr>\n",
       "    <tr>\n",
       "      <th>4</th>\n",
       "      <td>Alblasserdam</td>\n",
       "      <td>217.0</td>\n",
       "      <td>234.0</td>\n",
       "      <td>252.0</td>\n",
       "      <td>274.0</td>\n",
       "      <td>325.0</td>\n",
       "    </tr>\n",
       "  </tbody>\n",
       "</table>\n",
       "</div>"
      ],
      "text/plain": [
       "        Perioden   2019   2020   2021  2022**  2023*\n",
       "0    Aa en Hunze  241.0  257.0  271.0   298.0  342.0\n",
       "1       Aalsmeer  337.0  361.0  383.0   427.0  495.0\n",
       "2         Aalten  209.0  223.0  238.0   265.0  314.0\n",
       "3  Achtkarspelen  182.0  192.0  206.0   226.0  256.0\n",
       "4   Alblasserdam  217.0  234.0  252.0   274.0  325.0"
      ]
     },
     "execution_count": 24,
     "metadata": {},
     "output_type": "execute_result"
    }
   ],
   "source": [
    "import pandas as pd\n",
    "\n",
    "# Replace 'your_file_path.csv' with the actual file path of your CSV file.\n",
    "file_path = 'Gemiddelde_WOZ_waarde_van_woningen_op_1_januari__eigendom__regio__31072023_104354.csv'\n",
    "\n",
    "# Specify the line numbers to skip, note last line is also skipped\n",
    "lines_to_skip = [0, 1, 2, 4, 5, 366]\n",
    "\n",
    "# Read the CSV file into a pandas DataFrame, skipping the specified lines and using \";\" as the delimiter.\n",
    "df = pd.read_csv(file_path, skiprows=lines_to_skip, sep=';')\n",
    "\n",
    "# View the upper 5 rows of the dataframe\n",
    "df.head(5)\n"
   ]
  },
  {
   "cell_type": "code",
   "execution_count": 25,
   "metadata": {},
   "outputs": [
    {
     "data": {
      "text/html": [
       "<div>\n",
       "<style scoped>\n",
       "    .dataframe tbody tr th:only-of-type {\n",
       "        vertical-align: middle;\n",
       "    }\n",
       "\n",
       "    .dataframe tbody tr th {\n",
       "        vertical-align: top;\n",
       "    }\n",
       "\n",
       "    .dataframe thead th {\n",
       "        text-align: right;\n",
       "    }\n",
       "</style>\n",
       "<table border=\"1\" class=\"dataframe\">\n",
       "  <thead>\n",
       "    <tr style=\"text-align: right;\">\n",
       "      <th></th>\n",
       "      <th>Municipalities</th>\n",
       "      <th>2019</th>\n",
       "      <th>2020</th>\n",
       "      <th>2021</th>\n",
       "      <th>2022</th>\n",
       "      <th>2023</th>\n",
       "    </tr>\n",
       "  </thead>\n",
       "  <tbody>\n",
       "    <tr>\n",
       "      <th>355</th>\n",
       "      <td>Zundert</td>\n",
       "      <td>289.0</td>\n",
       "      <td>305.0</td>\n",
       "      <td>319.0</td>\n",
       "      <td>357.0</td>\n",
       "      <td>409.0</td>\n",
       "    </tr>\n",
       "    <tr>\n",
       "      <th>356</th>\n",
       "      <td>Zutphen</td>\n",
       "      <td>202.0</td>\n",
       "      <td>216.0</td>\n",
       "      <td>231.0</td>\n",
       "      <td>254.0</td>\n",
       "      <td>312.0</td>\n",
       "    </tr>\n",
       "    <tr>\n",
       "      <th>357</th>\n",
       "      <td>Zwartewaterland</td>\n",
       "      <td>216.0</td>\n",
       "      <td>225.0</td>\n",
       "      <td>237.0</td>\n",
       "      <td>262.0</td>\n",
       "      <td>297.0</td>\n",
       "    </tr>\n",
       "    <tr>\n",
       "      <th>358</th>\n",
       "      <td>Zwijndrecht</td>\n",
       "      <td>198.0</td>\n",
       "      <td>216.0</td>\n",
       "      <td>237.0</td>\n",
       "      <td>256.0</td>\n",
       "      <td>304.0</td>\n",
       "    </tr>\n",
       "    <tr>\n",
       "      <th>359</th>\n",
       "      <td>Zwolle</td>\n",
       "      <td>235.0</td>\n",
       "      <td>252.0</td>\n",
       "      <td>272.0</td>\n",
       "      <td>298.0</td>\n",
       "      <td>345.0</td>\n",
       "    </tr>\n",
       "  </tbody>\n",
       "</table>\n",
       "</div>"
      ],
      "text/plain": [
       "      Municipalities   2019   2020   2021   2022   2023\n",
       "355          Zundert  289.0  305.0  319.0  357.0  409.0\n",
       "356          Zutphen  202.0  216.0  231.0  254.0  312.0\n",
       "357  Zwartewaterland  216.0  225.0  237.0  262.0  297.0\n",
       "358      Zwijndrecht  198.0  216.0  237.0  256.0  304.0\n",
       "359           Zwolle  235.0  252.0  272.0  298.0  345.0"
      ]
     },
     "execution_count": 25,
     "metadata": {},
     "output_type": "execute_result"
    }
   ],
   "source": [
    "# Some data cleaning to make sure column names are correct\n",
    "\n",
    "# Create a dictionary to map the current column names to the new names.\n",
    "column_mapping = {\n",
    "    'Perioden': 'Municipalities',\n",
    "    '2022**': '2022',\n",
    "    '2023*': '2023'\n",
    "}\n",
    "\n",
    "# Rename the columns using the dictionary.\n",
    "df.rename(columns=column_mapping, inplace=True)\n",
    "\n",
    "df.tail()"
   ]
  },
  {
   "cell_type": "markdown",
   "metadata": {},
   "source": [
    "Assessing Data:\n",
    "\n",
    "I assesed the data by looking at several aspects, like missing data, outliers, min/max/mean values, etc. "
   ]
  },
  {
   "cell_type": "code",
   "execution_count": 26,
   "metadata": {},
   "outputs": [
    {
     "name": "stdout",
     "output_type": "stream",
     "text": [
      "<class 'pandas.core.frame.DataFrame'>\n",
      "RangeIndex: 360 entries, 0 to 359\n",
      "Data columns (total 6 columns):\n",
      " #   Column          Non-Null Count  Dtype  \n",
      "---  ------          --------------  -----  \n",
      " 0   Municipalities  360 non-null    object \n",
      " 1   2019            355 non-null    float64\n",
      " 2   2020            355 non-null    float64\n",
      " 3   2021            352 non-null    float64\n",
      " 4   2022            345 non-null    float64\n",
      " 5   2023            342 non-null    float64\n",
      "dtypes: float64(5), object(1)\n",
      "memory usage: 17.0+ KB\n"
     ]
    }
   ],
   "source": [
    "# Display the concise summary of the DataFrame\n",
    "df.info()"
   ]
  },
  {
   "cell_type": "code",
   "execution_count": 27,
   "metadata": {},
   "outputs": [
    {
     "data": {
      "text/html": [
       "<div>\n",
       "<style scoped>\n",
       "    .dataframe tbody tr th:only-of-type {\n",
       "        vertical-align: middle;\n",
       "    }\n",
       "\n",
       "    .dataframe tbody tr th {\n",
       "        vertical-align: top;\n",
       "    }\n",
       "\n",
       "    .dataframe thead th {\n",
       "        text-align: right;\n",
       "    }\n",
       "</style>\n",
       "<table border=\"1\" class=\"dataframe\">\n",
       "  <thead>\n",
       "    <tr style=\"text-align: right;\">\n",
       "      <th></th>\n",
       "      <th>2019</th>\n",
       "      <th>2020</th>\n",
       "      <th>2021</th>\n",
       "      <th>2022</th>\n",
       "      <th>2023</th>\n",
       "    </tr>\n",
       "  </thead>\n",
       "  <tbody>\n",
       "    <tr>\n",
       "      <th>count</th>\n",
       "      <td>355.000000</td>\n",
       "      <td>355.000000</td>\n",
       "      <td>352.000000</td>\n",
       "      <td>345.000000</td>\n",
       "      <td>342.000000</td>\n",
       "    </tr>\n",
       "    <tr>\n",
       "      <th>mean</th>\n",
       "      <td>258.329577</td>\n",
       "      <td>277.070423</td>\n",
       "      <td>296.079545</td>\n",
       "      <td>324.405797</td>\n",
       "      <td>375.000000</td>\n",
       "    </tr>\n",
       "    <tr>\n",
       "      <th>std</th>\n",
       "      <td>67.246961</td>\n",
       "      <td>73.090595</td>\n",
       "      <td>76.721307</td>\n",
       "      <td>82.706598</td>\n",
       "      <td>94.418548</td>\n",
       "    </tr>\n",
       "    <tr>\n",
       "      <th>min</th>\n",
       "      <td>131.000000</td>\n",
       "      <td>138.000000</td>\n",
       "      <td>148.000000</td>\n",
       "      <td>167.000000</td>\n",
       "      <td>194.000000</td>\n",
       "    </tr>\n",
       "    <tr>\n",
       "      <th>25%</th>\n",
       "      <td>215.500000</td>\n",
       "      <td>230.500000</td>\n",
       "      <td>246.000000</td>\n",
       "      <td>270.000000</td>\n",
       "      <td>314.250000</td>\n",
       "    </tr>\n",
       "    <tr>\n",
       "      <th>50%</th>\n",
       "      <td>250.000000</td>\n",
       "      <td>266.000000</td>\n",
       "      <td>284.500000</td>\n",
       "      <td>314.000000</td>\n",
       "      <td>363.000000</td>\n",
       "    </tr>\n",
       "    <tr>\n",
       "      <th>75%</th>\n",
       "      <td>291.000000</td>\n",
       "      <td>311.000000</td>\n",
       "      <td>331.000000</td>\n",
       "      <td>363.000000</td>\n",
       "      <td>416.750000</td>\n",
       "    </tr>\n",
       "    <tr>\n",
       "      <th>max</th>\n",
       "      <td>681.000000</td>\n",
       "      <td>735.000000</td>\n",
       "      <td>775.000000</td>\n",
       "      <td>830.000000</td>\n",
       "      <td>932.000000</td>\n",
       "    </tr>\n",
       "  </tbody>\n",
       "</table>\n",
       "</div>"
      ],
      "text/plain": [
       "             2019        2020        2021        2022        2023\n",
       "count  355.000000  355.000000  352.000000  345.000000  342.000000\n",
       "mean   258.329577  277.070423  296.079545  324.405797  375.000000\n",
       "std     67.246961   73.090595   76.721307   82.706598   94.418548\n",
       "min    131.000000  138.000000  148.000000  167.000000  194.000000\n",
       "25%    215.500000  230.500000  246.000000  270.000000  314.250000\n",
       "50%    250.000000  266.000000  284.500000  314.000000  363.000000\n",
       "75%    291.000000  311.000000  331.000000  363.000000  416.750000\n",
       "max    681.000000  735.000000  775.000000  830.000000  932.000000"
      ]
     },
     "execution_count": 27,
     "metadata": {},
     "output_type": "execute_result"
    }
   ],
   "source": [
    "# Display the statistical summary of the numerical columns in my DataFrame.\n",
    "df.describe()"
   ]
  },
  {
   "cell_type": "markdown",
   "metadata": {},
   "source": [
    "Certain Municipalities are reorganized, so that's why there is a difference in the Count of Municipalities . Let's dive into this:"
   ]
  },
  {
   "cell_type": "code",
   "execution_count": 28,
   "metadata": {},
   "outputs": [
    {
     "name": "stdout",
     "output_type": "stream",
     "text": [
      "Number of rows with missing data: 23\n"
     ]
    }
   ],
   "source": [
    "# Check for missing values in each row.\n",
    "rows_with_missing_data = df.isnull().any(axis=1)\n",
    "\n",
    "# Filter and display only the rows with missing data.\n",
    "rows_with_missing_data_df = df[rows_with_missing_data]\n",
    "\n",
    "# Count the number of rows in 'rows_with_missing_data_df'.\n",
    "num_rows_with_missing_data = rows_with_missing_data_df.shape[0]\n",
    "\n",
    "# Now 'num_rows_with_missing_data' contains the count of rows with missing data.\n",
    "print(\"Number of rows with missing data:\", num_rows_with_missing_data)\n"
   ]
  },
  {
   "cell_type": "code",
   "execution_count": 29,
   "metadata": {},
   "outputs": [
    {
     "data": {
      "text/html": [
       "<div>\n",
       "<style scoped>\n",
       "    .dataframe tbody tr th:only-of-type {\n",
       "        vertical-align: middle;\n",
       "    }\n",
       "\n",
       "    .dataframe tbody tr th {\n",
       "        vertical-align: top;\n",
       "    }\n",
       "\n",
       "    .dataframe thead th {\n",
       "        text-align: right;\n",
       "    }\n",
       "</style>\n",
       "<table border=\"1\" class=\"dataframe\">\n",
       "  <thead>\n",
       "    <tr style=\"text-align: right;\">\n",
       "      <th></th>\n",
       "      <th>Municipalities</th>\n",
       "      <th>2019</th>\n",
       "      <th>2020</th>\n",
       "      <th>2021</th>\n",
       "      <th>2022</th>\n",
       "      <th>2023</th>\n",
       "    </tr>\n",
       "  </thead>\n",
       "  <tbody>\n",
       "    <tr>\n",
       "      <th>17</th>\n",
       "      <td>Appingedam</td>\n",
       "      <td>143.0</td>\n",
       "      <td>155.0</td>\n",
       "      <td>NaN</td>\n",
       "      <td>NaN</td>\n",
       "      <td>NaN</td>\n",
       "    </tr>\n",
       "    <tr>\n",
       "      <th>27</th>\n",
       "      <td>Beemster</td>\n",
       "      <td>369.0</td>\n",
       "      <td>405.0</td>\n",
       "      <td>429.0</td>\n",
       "      <td>NaN</td>\n",
       "      <td>NaN</td>\n",
       "    </tr>\n",
       "    <tr>\n",
       "      <th>48</th>\n",
       "      <td>Boxmeer</td>\n",
       "      <td>250.0</td>\n",
       "      <td>256.0</td>\n",
       "      <td>266.0</td>\n",
       "      <td>NaN</td>\n",
       "      <td>NaN</td>\n",
       "    </tr>\n",
       "    <tr>\n",
       "      <th>51</th>\n",
       "      <td>Brielle</td>\n",
       "      <td>237.0</td>\n",
       "      <td>258.0</td>\n",
       "      <td>277.0</td>\n",
       "      <td>306.0</td>\n",
       "      <td>NaN</td>\n",
       "    </tr>\n",
       "    <tr>\n",
       "      <th>62</th>\n",
       "      <td>Cuijk</td>\n",
       "      <td>225.0</td>\n",
       "      <td>238.0</td>\n",
       "      <td>256.0</td>\n",
       "      <td>NaN</td>\n",
       "      <td>NaN</td>\n",
       "    </tr>\n",
       "  </tbody>\n",
       "</table>\n",
       "</div>"
      ],
      "text/plain": [
       "   Municipalities   2019   2020   2021   2022  2023\n",
       "17     Appingedam  143.0  155.0    NaN    NaN   NaN\n",
       "27       Beemster  369.0  405.0  429.0    NaN   NaN\n",
       "48        Boxmeer  250.0  256.0  266.0    NaN   NaN\n",
       "51        Brielle  237.0  258.0  277.0  306.0   NaN\n",
       "62          Cuijk  225.0  238.0  256.0    NaN   NaN"
      ]
     },
     "execution_count": 29,
     "metadata": {},
     "output_type": "execute_result"
    }
   ],
   "source": [
    "rows_with_missing_data_df.head()"
   ]
  },
  {
   "cell_type": "markdown",
   "metadata": {},
   "source": [
    "Calculating trends for certain municipalities could have some bias because of the merger of municipalities over time. However, the city I consider does not have that merger and I'm interested in the comparison of Amersfoort against the rest of the Netherlands."
   ]
  },
  {
   "cell_type": "markdown",
   "metadata": {},
   "source": [
    "# Step 3: Data Preparation"
   ]
  },
  {
   "cell_type": "markdown",
   "metadata": {},
   "source": [
    "Data cleaning:\n",
    "\n",
    "I don't need a lot of data cleaning apart from what I had already done to read in the gathered data from my csv file. No outliers are observed. As expected, since this data comes from the central bureau of statistics and is already prepared carefully before publishing.\n"
   ]
  },
  {
   "cell_type": "markdown",
   "metadata": {},
   "source": [
    "Data analyzing: \n",
    "\n",
    "I need to define 2 series of data for analzying: one with the average prices of NL and one with the prices of Amersfoort"
   ]
  },
  {
   "cell_type": "code",
   "execution_count": 30,
   "metadata": {},
   "outputs": [
    {
     "data": {
      "text/html": [
       "<div>\n",
       "<style scoped>\n",
       "    .dataframe tbody tr th:only-of-type {\n",
       "        vertical-align: middle;\n",
       "    }\n",
       "\n",
       "    .dataframe tbody tr th {\n",
       "        vertical-align: top;\n",
       "    }\n",
       "\n",
       "    .dataframe thead th {\n",
       "        text-align: right;\n",
       "    }\n",
       "</style>\n",
       "<table border=\"1\" class=\"dataframe\">\n",
       "  <thead>\n",
       "    <tr style=\"text-align: right;\">\n",
       "      <th></th>\n",
       "      <th>NL</th>\n",
       "      <th>Amersfoort</th>\n",
       "    </tr>\n",
       "    <tr>\n",
       "      <th>Years</th>\n",
       "      <th></th>\n",
       "      <th></th>\n",
       "    </tr>\n",
       "  </thead>\n",
       "  <tbody>\n",
       "    <tr>\n",
       "      <th>2019</th>\n",
       "      <td>258.3</td>\n",
       "      <td>283.0</td>\n",
       "    </tr>\n",
       "    <tr>\n",
       "      <th>2020</th>\n",
       "      <td>277.1</td>\n",
       "      <td>306.0</td>\n",
       "    </tr>\n",
       "    <tr>\n",
       "      <th>2021</th>\n",
       "      <td>296.1</td>\n",
       "      <td>330.0</td>\n",
       "    </tr>\n",
       "    <tr>\n",
       "      <th>2022</th>\n",
       "      <td>324.4</td>\n",
       "      <td>367.0</td>\n",
       "    </tr>\n",
       "    <tr>\n",
       "      <th>2023</th>\n",
       "      <td>375.0</td>\n",
       "      <td>433.0</td>\n",
       "    </tr>\n",
       "  </tbody>\n",
       "</table>\n",
       "</div>"
      ],
      "text/plain": [
       "          NL  Amersfoort\n",
       "Years                   \n",
       "2019   258.3       283.0\n",
       "2020   277.1       306.0\n",
       "2021   296.1       330.0\n",
       "2022   324.4       367.0\n",
       "2023   375.0       433.0"
      ]
     },
     "execution_count": 30,
     "metadata": {},
     "output_type": "execute_result"
    }
   ],
   "source": [
    "# Calculate the average of all columns in the DataFrame, skipping the first column.\n",
    "column_averages = df.iloc[:, 1:].mean()\n",
    "\n",
    "# Create a new DataFrame containing the column averages\n",
    "column_averages_df = pd.DataFrame(column_averages)\n",
    "\n",
    "# Rename the column to 'NL'\n",
    "column_averages_df.columns = ['NL']\n",
    "\n",
    "# Create a DataFrame for Amersfoort row\n",
    "amersfoort_row = df[df['Municipalities'] == 'Amersfoort'].iloc[:, 1:].T\n",
    "\n",
    "# Rename the column to 'Amersfoort'\n",
    "amersfoort_row.columns = ['Amersfoort']\n",
    "\n",
    "# Combine both DataFrames for comparison\n",
    "comparison_df = pd.concat([column_averages_df, amersfoort_row], axis=1)\n",
    "\n",
    "# Round all numerical values in the DataFrame to one decimal place\n",
    "rounded_comparison_df = comparison_df.round(1)\n",
    "\n",
    "# Rename the index to 'Years'\n",
    "rounded_comparison_df = rounded_comparison_df.rename_axis('Years')\n",
    "\n",
    "# This table below shows the avg house prices (WOZ) of NL and Amersfoort over the last 5 years\n",
    "rounded_comparison_df"
   ]
  },
  {
   "cell_type": "markdown",
   "metadata": {},
   "source": [
    "I can also vizualize this data to support any findings and gather insights"
   ]
  },
  {
   "cell_type": "code",
   "execution_count": 31,
   "metadata": {},
   "outputs": [
    {
     "data": {
      "image/png": "[encoded data removed]",
      "text/plain": [
       "<Figure size 640x480 with 1 Axes>"
      ]
     },
     "metadata": {},
     "output_type": "display_data"
    }
   ],
   "source": [
    "import matplotlib.pyplot as plt\n",
    "\n",
    "# Convert the index to integers if they are strings\n",
    "years = [int(year) for year in rounded_comparison_df.index]\n",
    "\n",
    "# Get the values for NL and Amersfoort\n",
    "NL = rounded_comparison_df['NL']\n",
    "Amersfoort = rounded_comparison_df['Amersfoort']\n",
    "\n",
    "# Plotting the barplot\n",
    "fig, ax = plt.subplots()\n",
    "width = 0.4  # Width of the bars\n",
    "\n",
    "# Create bars for NL and Amersfoort columns, offsetting Amersfoort by the width\n",
    "ax.bar([year - width/2 for year in years], NL, width, label='NL')\n",
    "ax.bar([year + width/2 for year in years], Amersfoort, width, label='Amersfoort')\n",
    "\n",
    "# Add labels, title and legend\n",
    "ax.set_xlabel('Years')\n",
    "ax.set_ylabel('Values')\n",
    "ax.set_title('Barplot of NL and Amersfoort')\n",
    "ax.legend()\n",
    "\n",
    "plt.xticks(years)  # Set x-ticks to the years\n",
    "plt.show()\n",
    "\n"
   ]
  },
  {
   "cell_type": "markdown",
   "metadata": {},
   "source": [
    "I now further analyze the data by indexing 2019 as base year (with value 100) and defining the YoY growth, "
   ]
  },
  {
   "cell_type": "code",
   "execution_count": 32,
   "metadata": {},
   "outputs": [
    {
     "data": {
      "text/html": [
       "<div>\n",
       "<style scoped>\n",
       "    .dataframe tbody tr th:only-of-type {\n",
       "        vertical-align: middle;\n",
       "    }\n",
       "\n",
       "    .dataframe tbody tr th {\n",
       "        vertical-align: top;\n",
       "    }\n",
       "\n",
       "    .dataframe thead th {\n",
       "        text-align: right;\n",
       "    }\n",
       "</style>\n",
       "<table border=\"1\" class=\"dataframe\">\n",
       "  <thead>\n",
       "    <tr style=\"text-align: right;\">\n",
       "      <th></th>\n",
       "      <th>NL</th>\n",
       "      <th>Amersfoort</th>\n",
       "      <th>NL_Growth</th>\n",
       "      <th>Amersfoort_Growth</th>\n",
       "      <th>NL_YoY_Growth</th>\n",
       "      <th>Amersfoort_YoY_Growth</th>\n",
       "    </tr>\n",
       "    <tr>\n",
       "      <th>Years</th>\n",
       "      <th></th>\n",
       "      <th></th>\n",
       "      <th></th>\n",
       "      <th></th>\n",
       "      <th></th>\n",
       "      <th></th>\n",
       "    </tr>\n",
       "  </thead>\n",
       "  <tbody>\n",
       "    <tr>\n",
       "      <th>2019</th>\n",
       "      <td>258.3</td>\n",
       "      <td>283.0</td>\n",
       "      <td>100.000000</td>\n",
       "      <td>100.000000</td>\n",
       "      <td>NaN</td>\n",
       "      <td>NaN</td>\n",
       "    </tr>\n",
       "    <tr>\n",
       "      <th>2020</th>\n",
       "      <td>277.1</td>\n",
       "      <td>306.0</td>\n",
       "      <td>107.278358</td>\n",
       "      <td>108.127208</td>\n",
       "      <td>7.278358</td>\n",
       "      <td>8.127208</td>\n",
       "    </tr>\n",
       "    <tr>\n",
       "      <th>2021</th>\n",
       "      <td>296.1</td>\n",
       "      <td>330.0</td>\n",
       "      <td>114.634146</td>\n",
       "      <td>116.607774</td>\n",
       "      <td>6.856730</td>\n",
       "      <td>7.843137</td>\n",
       "    </tr>\n",
       "    <tr>\n",
       "      <th>2022</th>\n",
       "      <td>324.4</td>\n",
       "      <td>367.0</td>\n",
       "      <td>125.590399</td>\n",
       "      <td>129.681979</td>\n",
       "      <td>9.557582</td>\n",
       "      <td>11.212121</td>\n",
       "    </tr>\n",
       "    <tr>\n",
       "      <th>2023</th>\n",
       "      <td>375.0</td>\n",
       "      <td>433.0</td>\n",
       "      <td>145.180023</td>\n",
       "      <td>153.003534</td>\n",
       "      <td>15.598027</td>\n",
       "      <td>17.983651</td>\n",
       "    </tr>\n",
       "  </tbody>\n",
       "</table>\n",
       "</div>"
      ],
      "text/plain": [
       "          NL  Amersfoort   NL_Growth  Amersfoort_Growth  NL_YoY_Growth  \\\n",
       "Years                                                                    \n",
       "2019   258.3       283.0  100.000000         100.000000            NaN   \n",
       "2020   277.1       306.0  107.278358         108.127208       7.278358   \n",
       "2021   296.1       330.0  114.634146         116.607774       6.856730   \n",
       "2022   324.4       367.0  125.590399         129.681979       9.557582   \n",
       "2023   375.0       433.0  145.180023         153.003534      15.598027   \n",
       "\n",
       "       Amersfoort_YoY_Growth  \n",
       "Years                         \n",
       "2019                     NaN  \n",
       "2020                8.127208  \n",
       "2021                7.843137  \n",
       "2022               11.212121  \n",
       "2023               17.983651  "
      ]
     },
     "execution_count": 32,
     "metadata": {},
     "output_type": "execute_result"
    }
   ],
   "source": [
    "# Calculate growth for NL, base index is 2019\n",
    "rounded_comparison_df['NL_Growth'] = rounded_comparison_df['NL'] / rounded_comparison_df.loc['2019', 'NL'] * 100\n",
    "\n",
    "# Calculate growth for Amersfoort, base index 2019\n",
    "rounded_comparison_df['Amersfoort_Growth'] = rounded_comparison_df['Amersfoort'] / rounded_comparison_df.loc['2019', 'Amersfoort'] * 100\n",
    "\n",
    "# Calculate YoY growth for NL\n",
    "rounded_comparison_df['NL_YoY_Growth'] = rounded_comparison_df['NL'].pct_change() * 100\n",
    "\n",
    "# Calculate YoY growth for Amersfoort\n",
    "rounded_comparison_df['Amersfoort_YoY_Growth'] = rounded_comparison_df['Amersfoort'].pct_change() * 100\n",
    "\n",
    "rounded_comparison_df"
   ]
  },
  {
   "cell_type": "code",
   "execution_count": 33,
   "metadata": {},
   "outputs": [
    {
     "data": {
      "image/png": "[encoded data removed]",
      "text/plain": [
       "<Figure size 1500x600 with 2 Axes>"
      ]
     },
     "metadata": {},
     "output_type": "display_data"
    }
   ],
   "source": [
    "import pandas as pd\n",
    "import matplotlib.pyplot as plt\n",
    "\n",
    "# Assuming rounded_comparison_df is your DataFrame with the data\n",
    "years = rounded_comparison_df.index\n",
    "\n",
    "# Create subplots with 1 row and 2 columns\n",
    "fig, axs = plt.subplots(1, 2, figsize=(15, 6))\n",
    "\n",
    "# Plot the first data (NL and Amersfoort growth)\n",
    "axs[0].plot(years, rounded_comparison_df['NL_Growth'], marker='o', label='NL', color='blue')\n",
    "axs[0].plot(years, rounded_comparison_df['Amersfoort_Growth'], marker='o', label='Amersfoort', color='orange')\n",
    "axs[0].set_xlabel('Years')\n",
    "axs[0].set_ylabel('Values')\n",
    "axs[0].set_title('Growth vs 2019')\n",
    "axs[0].legend()\n",
    "axs[0].grid(True)\n",
    "\n",
    "\n",
    "# Plot the second data (NL_YoY_Growth and Amersfoort_YoY_Growth)\n",
    "axs[1].plot(years, rounded_comparison_df['NL_YoY_Growth'], marker='o', label='NL', color='blue')\n",
    "axs[1].plot(years, rounded_comparison_df['Amersfoort_YoY_Growth'], marker='o', label='Amersfoort', color='orange')\n",
    "axs[1].set_xlabel('Years')\n",
    "axs[1].set_ylabel('Values')\n",
    "axs[1].set_title('Year-on-Year Growth')\n",
    "axs[1].legend()\n",
    "axs[1].grid(True)\n",
    "\n",
    "# Adjust spacing between subplots\n",
    "plt.tight_layout()\n",
    "\n",
    "# Show the plots\n",
    "plt.show()\n",
    "\n"
   ]
  },
  {
   "cell_type": "markdown",
   "metadata": {},
   "source": [
    "So house prices have increased YoY harder in Amersfoort then in NL since 2019. "
   ]
  },
  {
   "cell_type": "markdown",
   "metadata": {},
   "source": [
    "# Step 4: Modeling"
   ]
  },
  {
   "cell_type": "markdown",
   "metadata": {},
   "source": [
    "Data modeling:\n",
    "\n",
    "To model the house prices, I used a simple linear regression model:"
   ]
  },
  {
   "cell_type": "code",
   "execution_count": 34,
   "metadata": {},
   "outputs": [
    {
     "data": {
      "image/png": "[encoded data removed]",
      "text/plain": [
       "<Figure size 1000x600 with 1 Axes>"
      ]
     },
     "metadata": {},
     "output_type": "display_data"
    }
   ],
   "source": [
    "import pandas as pd\n",
    "import matplotlib.pyplot as plt\n",
    "import numpy as np\n",
    "from matplotlib.ticker import ScalarFormatter\n",
    "\n",
    "# Convert years to numeric type and include 2024 for prediction\n",
    "years = rounded_comparison_df.index.astype(int).tolist() + [2024]\n",
    "\n",
    "# Create a single plot\n",
    "fig, ax = plt.subplots(figsize=(10, 6))\n",
    "\n",
    "# Plot the first data (NL and Amersfoort growth)\n",
    "ax.plot(years[:-1], rounded_comparison_df['NL_Growth'], marker='o', label='NL', color='blue')\n",
    "ax.plot(years[:-1], rounded_comparison_df['Amersfoort_Growth'], marker='o', label='Amersfoort', color='orange')\n",
    "ax.set_xlabel('Years')\n",
    "ax.set_ylabel('Values')\n",
    "ax.set_title('Growth of House Prices (2019 is set to 100)')\n",
    "ax.legend()\n",
    "ax.grid(True)\n",
    "\n",
    "# Fit a second-order polynomial for the first data and plot the trendline\n",
    "coefficients_nl = np.polyfit(years[:-1], rounded_comparison_df['NL_Growth'], 2)\n",
    "trendline_nl = np.poly1d(coefficients_nl)\n",
    "ax.plot(years, trendline_nl(years), linestyle='dashed', color='blue', label='Trendline (NL)')\n",
    "\n",
    "coefficients_amersfoort = np.polyfit(years[:-1], rounded_comparison_df['Amersfoort_Growth'], 2)\n",
    "trendline_amersfoort = np.poly1d(coefficients_amersfoort)\n",
    "ax.plot(years, trendline_amersfoort(years), linestyle='dashed', color='orange', label='Trendline (Amersfoort)')\n",
    "\n",
    "# Add predicted values next to the trendline for 2024\n",
    "plt.text(2024, trendline_nl(2024), f'{trendline_nl(2024):.0f}', ha='left', va='bottom')\n",
    "plt.text(2024, trendline_amersfoort(2024), f'{trendline_amersfoort(2024):.0f}', ha='left', va='top')\n",
    "\n",
    "# Manually set x-axis tick positions and labels as integers (without decimal values)\n",
    "ax.set_xticks(years)\n",
    "ax.set_xticklabels(years)\n",
    "\n",
    "# Show the plot\n",
    "plt.show()\n",
    "\n"
   ]
  },
  {
   "cell_type": "markdown",
   "metadata": {},
   "source": [
    "# Step 5: Evaluation"
   ]
  },
  {
   "cell_type": "code",
   "execution_count": 35,
   "metadata": {},
   "outputs": [
    {
     "name": "stdout",
     "output_type": "stream",
     "text": [
      "Get equations and use R2 as evaluation metric:\n",
      "\n",
      "NL Growth:\n",
      "Equation: y = 2.02x^2 + -8137.52x + 8212092.18\n",
      "R-squared: 0.9940949892906683\n",
      "\n",
      "Amersfoort Growth:\n",
      "Equation: y = 2.50x^2 + -10087.14x + 10180284.23\n",
      "R-squared: 0.9943067330322495\n",
      "\n"
     ]
    }
   ],
   "source": [
    "import statsmodels.api as sm\n",
    "\n",
    "# Model again in a different way, could be done before as well\n",
    "\n",
    "# Convert years to numeric type\n",
    "years = rounded_comparison_df.index.astype(int) \n",
    "\n",
    "# Function to get the equation of the trendline\n",
    "def get_equation(coefficients):\n",
    "    \"\"\"\n",
    "    Construct a quadratic equation string from the given coefficients.\n",
    "\n",
    "    The equation will be in the format \"y = ax^2 + bx + c\", with the \n",
    "    coefficients rounded to two decimal places.\n",
    "\n",
    "    Args:\n",
    "        coefficients (tuple): A tuple of three numbers representing the \n",
    "                              coefficients (a, b, c) of a quadratic equation.\n",
    "\n",
    "    Returns:\n",
    "    str: The quadratic equation in string format.\n",
    "    \"\"\"\n",
    "    a, b, c = coefficients\n",
    "    equation = f\"y = {a:.2f}x^2 + {b:.2f}x + {c:.2f}\"\n",
    "    return equation\n",
    "\n",
    "# Function to fit a second degree polynomial and get the regression results\n",
    "def get_polynomial_regression_results(x, y):\n",
    "    \"\"\"\n",
    "    Fit a second degree polynomial to the input data and return the regression results.\n",
    "\n",
    "    This function creates an additional feature for the square of x, and then uses\n",
    "    statsmodels' OLS method to fit the polynomial. \n",
    "\n",
    "    Args:\n",
    "        x (array_like): A 1-D array containing the x-coordinates of the data points.\n",
    "        y (array_like): A 1-D array containing the y-coordinates of the data points.\n",
    "\n",
    "    Returns:\n",
    "        RegressionResults: A RegressionResults class instance that encapsulates \n",
    "                           the results of the regression.\n",
    "    \"\"\"\n",
    "    # Create a 2-D array where the first column is the square of x and \n",
    "    # the second column is x itself\n",
    "    X = np.column_stack((x**2, x))\n",
    "\n",
    "    # Add a column of ones for the intercept term\n",
    "    X = sm.add_constant(X)\n",
    "\n",
    "    # Fit the OLS model\n",
    "    model = sm.OLS(y, X)\n",
    "    results = model.fit()\n",
    "\n",
    "    return results\n",
    "\n",
    "# Fit a second-order polynomial for the first data (NL and Amersfoort growth)\n",
    "coefficients_nl = np.polyfit(years, rounded_comparison_df['NL_Growth'], 2)\n",
    "coefficients_amersfoort = np.polyfit(years, rounded_comparison_df['Amersfoort_Growth'], 2)\n",
    "\n",
    "# Get the equations of the trendlines\n",
    "equation_nl = get_equation(coefficients_nl)\n",
    "equation_amersfoort = get_equation(coefficients_amersfoort)\n",
    "\n",
    "# Get regression results and R-squared for the first data\n",
    "results_nl = get_polynomial_regression_results(years, rounded_comparison_df['NL_Growth'])\n",
    "results_amersfoort = get_polynomial_regression_results(years, rounded_comparison_df['Amersfoort_Growth'])\n",
    "\n",
    "r_squared_nl = results_nl.rsquared\n",
    "r_squared_amersfoort = results_amersfoort.rsquared\n",
    "\n",
    "# Report output\n",
    "print(\"Get equations and use R2 as evaluation metric:\\n\")\n",
    "\n",
    "print(\"NL Growth:\")\n",
    "print(\"Equation:\", equation_nl)\n",
    "print(\"R-squared:\", r_squared_nl)\n",
    "print()\n",
    "\n",
    "print(\"Amersfoort Growth:\")\n",
    "print(\"Equation:\", equation_amersfoort)\n",
    "print(\"R-squared:\", r_squared_amersfoort)\n",
    "print()"
   ]
  },
  {
   "cell_type": "markdown",
   "metadata": {},
   "source": [
    "# Step 6: Deployment"
   ]
  },
  {
   "cell_type": "code",
   "execution_count": 37,
   "metadata": {},
   "outputs": [
    {
     "name": "stdout",
     "output_type": "stream",
     "text": [
      "Predicted values for 2024, compared to base year 2019 with value 100:\n",
      "NL Growth: 165.25\n",
      "Amersfoort Growth: 177.24\n"
     ]
    }
   ],
   "source": [
    "# Predict values for 2024 compared to 2019\n",
    "year_2024 = 2024\n",
    "nl_growth_2024 = trendline_nl(year_2024)\n",
    "amersfoort_growth_2024 = trendline_amersfoort(year_2024)\n",
    "\n",
    "print(\"Predicted values for 2024, compared to base year 2019 with value 100:\")\n",
    "print(f\"NL Growth: {nl_growth_2024:.2f}\")\n",
    "print(f\"Amersfoort Growth: {amersfoort_growth_2024:.2f}\")"
   ]
  },
  {
   "cell_type": "code",
   "execution_count": 38,
   "metadata": {},
   "outputs": [
    {
     "name": "stdout",
     "output_type": "stream",
     "text": [
      "Predicted values for 2024, compared to 2023:\n",
      "NL Growth YoY in %: 14.52\n",
      "Amersfoort Growth YoY in %: 16.61\n"
     ]
    }
   ],
   "source": [
    "# Predict values for 2024 compared to 2023\n",
    "year_2023 = 2023\n",
    "nl_growth_yoy = (trendline_nl(year_2024) - trendline_nl(year_2023))/trendline_nl(year_2023) * 100\n",
    "amersfoort_growth_yoy = (trendline_amersfoort(year_2024) - trendline_amersfoort(year_2023))/trendline_amersfoort(year_2023) * 100\n",
    "\n",
    "print(\"Predicted values for 2024, compared to 2023:\")\n",
    "print(f\"NL Growth YoY in %: {nl_growth_yoy:.2f}\")\n",
    "print(f\"Amersfoort Growth YoY in %: {amersfoort_growth_yoy:.2f}\")"
   ]
  },
  {
   "cell_type": "markdown",
   "metadata": {},
   "source": [
    "Vizualize:\n",
    "\n",
    "I can also vizualize this data with bar plots and trend lines to support any findings and gather insights"
   ]
  },
  {
   "cell_type": "code",
   "execution_count": 39,
   "metadata": {},
   "outputs": [
    {
     "data": {
      "image/png": "[encoded data removed]",
      "text/plain": [
       "<Figure size 640x480 with 1 Axes>"
      ]
     },
     "metadata": {},
     "output_type": "display_data"
    }
   ],
   "source": [
    "\n",
    "import matplotlib.pyplot as plt\n",
    "\n",
    "# Convert the index to integers if they are strings\n",
    "years = [int(year) for year in rounded_comparison_df.index][1:]\n",
    "\n",
    "# Get the values for NL and Amersfoort\n",
    "NL = rounded_comparison_df['NL_Growth'][1:]\n",
    "Amersfoort = rounded_comparison_df['Amersfoort_Growth'][1:]\n",
    "\n",
    "# Plotting the barplot\n",
    "fig, ax = plt.subplots()\n",
    "width = 0.4  # Width of the bars\n",
    "\n",
    "# Create bars for NL and Amersfoort columns, offsetting Amersfoort by the width\n",
    "bars1 = ax.bar([year - width/2 for year in years], NL, width, label='NL')\n",
    "bars2 = ax.bar([year + width/2 for year in years], Amersfoort, width, label='Amersfoort')\n",
    "\n",
    "# Add values above the bars\n",
    "for bars in [bars1, bars2]:\n",
    "    for bar in bars:\n",
    "        yval = bar.get_height()\n",
    "        plt.text(bar.get_x() + bar.get_width()/2, yval + 1, f'{yval:.0f}', ha='center', va='bottom')\n",
    "\n",
    "\n",
    "# Add labels, title and legend\n",
    "ax.set_xlabel('Years')\n",
    "# ax.set_ylabel('Values')\n",
    "ax.set_title('Growth of House prices in NL and Amersfoort, base year 2019')\n",
    "ax.legend()\n",
    "\n",
    "plt.xticks(years)  # Set x-ticks to the years\n",
    "plt.ylim(100,)  # Set y-axis to start from 100\n",
    "plt.yticks([])  # Hide the y-axis\n",
    "\n",
    "plt.show()\n"
   ]
  },
  {
   "cell_type": "markdown",
   "metadata": {},
   "source": [
    "Business Questions to address\n",
    "- What is the average price increase for houses in The Netherlands in 2023 compared to 2019: 45 %\n",
    "- What is the average price increase for houses in the municipality Amersfoort in 2023 compared to 2019: 53 %\n",
    "- What is the predicted average price increase for houses in The Netherlands for 2024 compared to 2019: 65 %\n",
    "- What is the predicted average price increase for houses in Amersfoort for 2024 compared to 2019: 77 %\n"
   ]
  },
  {
   "cell_type": "code",
   "execution_count": null,
   "metadata": {},
   "outputs": [],
   "source": []
  }
 ],
 "metadata": {
  "kernelspec": {
   "display_name": "Python 3",
   "language": "python",
   "name": "python3"
  },
  "language_info": {
   "codemirror_mode": {
    "name": "ipython",
    "version": 3
   },
   "file_extension": ".py",
   "mimetype": "text/x-python",
   "name": "python",
   "nbconvert_exporter": "python",
   "pygments_lexer": "ipython3",
   "version": "3.11.3"
  },
  "orig_nbformat": 4
 },
 "nbformat": 4,
 "nbformat_minor": 2
}
